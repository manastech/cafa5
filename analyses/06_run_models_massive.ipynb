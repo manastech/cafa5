{
 "cells": [
  {
   "cell_type": "markdown",
   "metadata": {},
   "source": [
    "# Tutorial 6\n",
    "\n",
    "## Massive model training\n",
    "\n",
    "Now that we know how to train a single model and bencharmk it, let's train models massively for all the candidate go terms."
   ]
  },
  {
   "cell_type": "code",
   "execution_count": 1,
   "metadata": {},
   "outputs": [],
   "source": [
    "# Ignore warnings \n",
    "import warnings\n",
    "warnings.filterwarnings('ignore')"
   ]
  },
  {
   "cell_type": "markdown",
   "metadata": {},
   "source": [
    "Because we're executing this massive training in a notebook, we are going to call indeed a script which does the training. Otherwise, the memory of the GPUs gets full and an error is thrown. In the `/scripts/` folder a script training models in the same fashion than the previous tutorial will be executed for each candidate GO term in a separated thread which cleans the GPU memory when finished. "
   ]
  },
  {
   "cell_type": "code",
   "execution_count": 2,
   "metadata": {},
   "outputs": [],
   "source": [
    "import sys\n",
    "sys.path.append('../scripts/')\n",
    "from singleTermPipeline import singleTermPipeline"
   ]
  },
  {
   "cell_type": "code",
   "execution_count": 3,
   "metadata": {},
   "outputs": [],
   "source": [
    "import numpy as np\n",
    "import tensorflow as tf\n",
    "from tensorflow import keras\n",
    "from tensorflow.keras import layers\n",
    "import pandas as pd\n",
    "import multiprocessing"
   ]
  },
  {
   "cell_type": "markdown",
   "metadata": {},
   "source": [
    "Allow GPU memory growth"
   ]
  },
  {
   "cell_type": "code",
   "execution_count": 4,
   "metadata": {},
   "outputs": [],
   "source": [
    "gpus = tf.config.experimental.list_physical_devices('GPU')\n",
    "for gpu in gpus:\n",
    "    tf.config.experimental.set_memory_growth(gpu, True)"
   ]
  },
  {
   "cell_type": "markdown",
   "metadata": {},
   "source": [
    "Let's load the IA-ordered candidate terms (in this examples, with at least 75 proteins in the train set)"
   ]
  },
  {
   "cell_type": "code",
   "execution_count": 5,
   "metadata": {},
   "outputs": [
    {
     "data": {
      "text/html": [
       "<div>\n",
       "<style scoped>\n",
       "    .dataframe tbody tr th:only-of-type {\n",
       "        vertical-align: middle;\n",
       "    }\n",
       "\n",
       "    .dataframe tbody tr th {\n",
       "        vertical-align: top;\n",
       "    }\n",
       "\n",
       "    .dataframe thead th {\n",
       "        text-align: right;\n",
       "    }\n",
       "</style>\n",
       "<table border=\"1\" class=\"dataframe\">\n",
       "  <thead>\n",
       "    <tr style=\"text-align: right;\">\n",
       "      <th></th>\n",
       "      <th>ia</th>\n",
       "    </tr>\n",
       "    <tr>\n",
       "      <th>go_term</th>\n",
       "      <th></th>\n",
       "    </tr>\n",
       "  </thead>\n",
       "  <tbody>\n",
       "    <tr>\n",
       "      <th>GO:0031386</th>\n",
       "      <td>11.619083</td>\n",
       "    </tr>\n",
       "    <tr>\n",
       "      <th>GO:0045505</th>\n",
       "      <td>11.228458</td>\n",
       "    </tr>\n",
       "    <tr>\n",
       "      <th>GO:0048038</th>\n",
       "      <td>11.164429</td>\n",
       "    </tr>\n",
       "    <tr>\n",
       "      <th>GO:0031681</th>\n",
       "      <td>10.906530</td>\n",
       "    </tr>\n",
       "    <tr>\n",
       "      <th>GO:0097602</th>\n",
       "      <td>10.505992</td>\n",
       "    </tr>\n",
       "  </tbody>\n",
       "</table>\n",
       "</div>"
      ],
      "text/plain": [
       "                   ia\n",
       "go_term              \n",
       "GO:0031386  11.619083\n",
       "GO:0045505  11.228458\n",
       "GO:0048038  11.164429\n",
       "GO:0031681  10.906530\n",
       "GO:0097602  10.505992"
      ]
     },
     "execution_count": 5,
     "metadata": {},
     "output_type": "execute_result"
    }
   ],
   "source": [
    "ordered_candidates_df = pd.read_csv( '../data/go_terms_test_parent_candidates_maxlen500_minmembers75_ordered.tsv', \n",
    "                                    index_col=0, sep='\\t', header=0)\n",
    "ordered_candidates_df.head()"
   ]
  },
  {
   "cell_type": "markdown",
   "metadata": {},
   "source": [
    "For this tutorial, let's train 5 models, in a parallel fashion, and save them into a working folder."
   ]
  },
  {
   "cell_type": "code",
   "execution_count": 6,
   "metadata": {},
   "outputs": [
    {
     "name": "stdout",
     "output_type": "stream",
     "text": [
      "RUNNING PIPELINE FOR GO term: GO:0031386\n",
      "Positive examples: 113\n",
      "Negative examples: 1064\n",
      "4/4 [==============================] - 0s 2ms/step\n",
      "AUC: 0.9834404349975285\n",
      "\n",
      "RUNNING PIPELINE FOR GO term: GO:0045505\n",
      "Positive examples: 82\n",
      "Negative examples: 787\n",
      "3/3 [==============================] - 0s 3ms/step\n",
      "AUC: 0.9631973140495868\n",
      "\n",
      "RUNNING PIPELINE FOR GO term: GO:0048038\n",
      "Positive examples: 126\n",
      "Negative examples: 1205\n",
      "5/5 [==============================] - 0s 2ms/step\n",
      "AUC: 0.9806749832924928\n",
      "\n",
      "RUNNING PIPELINE FOR GO term: GO:0031681\n",
      "Positive examples: 78\n",
      "Negative examples: 738\n",
      "3/3 [==============================] - 0s 2ms/step\n",
      "AUC: 0.9946460440214158\n",
      "\n",
      "RUNNING PIPELINE FOR GO term: GO:0097602\n",
      "Positive examples: 108\n",
      "Negative examples: 1014\n",
      "4/4 [==============================] - 0s 2ms/step\n",
      "AUC: 0.9716500900618685\n",
      "\n"
     ]
    }
   ],
   "source": [
    "for go_term in ordered_candidates_df.index[0:5]:\n",
    "    try:\n",
    "        model_save_path = '/data/models/'+go_term[-2:]+'/'+go_term.replace(\"GO:\",\"\")+'.h5'\n",
    "\n",
    "        p = multiprocessing.Process(target=singleTermPipeline(go_term , 10, 32, model_save_path))\n",
    "        p.start()\n",
    "        p.join()\n",
    "    except:\n",
    "        continue"
   ]
  },
  {
   "cell_type": "code",
   "execution_count": null,
   "metadata": {},
   "outputs": [],
   "source": []
  }
 ],
 "metadata": {
  "kernelspec": {
   "display_name": "Python 3",
   "language": "python",
   "name": "python3"
  },
  "language_info": {
   "codemirror_mode": {
    "name": "ipython",
    "version": 3
   },
   "file_extension": ".py",
   "mimetype": "text/x-python",
   "name": "python",
   "nbconvert_exporter": "python",
   "pygments_lexer": "ipython3",
   "version": "3.8.10"
  },
  "orig_nbformat": 4
 },
 "nbformat": 4,
 "nbformat_minor": 2
}
