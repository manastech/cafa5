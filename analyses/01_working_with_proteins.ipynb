{
 "cells": [
  {
   "cell_type": "markdown",
   "metadata": {},
   "source": [
    "# Tutorial 1\n",
    "\n",
    "## Working with proteins and structures\n",
    "\n",
    "In this notebook we will see the basics of protein and structure manipulation"
   ]
  },
  {
   "cell_type": "code",
   "execution_count": 1,
   "metadata": {},
   "outputs": [],
   "source": [
    "# Some imports\n",
    "import manas_cafa.bio.protein\n",
    "from manas_cafa.bio.protein import Protein"
   ]
  },
  {
   "cell_type": "markdown",
   "metadata": {},
   "source": [
    "Proteins will be handled following the Uniprot's XML format. When loading a protein, the package will attempt to load the protein's XML from the `uniprot_entries_path` folder. If the file is not found there, it will be downloaded from the Uniprot api, whose url is specified at `uniprot_entries_url`."
   ]
  },
  {
   "cell_type": "code",
   "execution_count": 2,
   "metadata": {},
   "outputs": [
    {
     "data": {
      "text/plain": [
       "'/data/uniprot/entries/'"
      ]
     },
     "execution_count": 2,
     "metadata": {},
     "output_type": "execute_result"
    }
   ],
   "source": [
    "manas_cafa.bio.protein.uniprot_entries_path"
   ]
  },
  {
   "cell_type": "code",
   "execution_count": 3,
   "metadata": {},
   "outputs": [
    {
     "data": {
      "text/plain": [
       "'https://rest.uniprot.org/uniprotkb/'"
      ]
     },
     "execution_count": 3,
     "metadata": {},
     "output_type": "execute_result"
    }
   ],
   "source": [
    "manas_cafa.bio.protein.uniprot_entries_url"
   ]
  },
  {
   "cell_type": "markdown",
   "metadata": {},
   "source": [
    "## Creating a protein object\n",
    "\n",
    "To create a protein instance only needs its protein Uniprot code. To load its XML data, you just need to call the `load_uniprot` method."
   ]
  },
  {
   "cell_type": "code",
   "execution_count": 4,
   "metadata": {},
   "outputs": [],
   "source": [
    "protein = Protein('P01112')\n",
    "protein.load_uniprot()\n"
   ]
  },
  {
   "cell_type": "markdown",
   "metadata": {},
   "source": [
    "In this package, we will work mainly with protein sequences, GeneOntology(GO) terms and protein structures. If the XML data was loaded, you can ask for the protein sequence:"
   ]
  },
  {
   "cell_type": "code",
   "execution_count": 5,
   "metadata": {},
   "outputs": [
    {
     "data": {
      "text/plain": [
       "'MTEYKLVVVGAGGVGKSALTIQLIQNHFVDEYDPTIEDSYRKQVVIDGETCLLDILDTAGQEEYSAMRDQYMRTGEGFLCVFAINNTKSFEDIHQYREQIKRVKDSDDVPMVLVGNKCDLAARTVESRQAQDLARSYGIPYIETSAKTRQGVEDAFYTLVREIRQHKLRKLNPPDESGPGCMSCKCVLS'"
      ]
     },
     "execution_count": 5,
     "metadata": {},
     "output_type": "execute_result"
    }
   ],
   "source": [
    "protein.sequence"
   ]
  },
  {
   "cell_type": "markdown",
   "metadata": {},
   "source": [
    "For its GO terms:"
   ]
  },
  {
   "cell_type": "code",
   "execution_count": 6,
   "metadata": {},
   "outputs": [
    {
     "data": {
      "text/plain": [
       "[{'type': 'go',\n",
       "  'id': 'GO:0005737',\n",
       "  'properties': {'term': 'C:cytoplasm',\n",
       "   'evidence': 'ECO:0000304',\n",
       "   'project': 'ProtInc'}},\n",
       " {'type': 'go',\n",
       "  'id': 'GO:0005829',\n",
       "  'properties': {'term': 'C:cytosol',\n",
       "   'evidence': 'ECO:0000314',\n",
       "   'project': 'HPA'}},\n",
       " {'type': 'go',\n",
       "  'id': 'GO:0005789',\n",
       "  'properties': {'term': 'C:endoplasmic reticulum membrane',\n",
       "   'evidence': 'ECO:0000304',\n",
       "   'project': 'Reactome'}},\n",
       " {'type': 'go',\n",
       "  'id': 'GO:0098978',\n",
       "  'properties': {'term': 'C:glutamatergic synapse',\n",
       "   'evidence': 'ECO:0000314',\n",
       "   'project': 'SynGO'}},\n",
       " {'type': 'go',\n",
       "  'id': 'GO:0005794',\n",
       "  'properties': {'term': 'C:Golgi apparatus',\n",
       "   'evidence': 'ECO:0000314',\n",
       "   'project': 'UniProtKB'}}]"
      ]
     },
     "execution_count": 6,
     "metadata": {},
     "output_type": "execute_result"
    }
   ],
   "source": [
    "protein.go_terms()[0:5]"
   ]
  },
  {
   "cell_type": "markdown",
   "metadata": {},
   "source": [
    "And for the list of its structures:"
   ]
  },
  {
   "cell_type": "code",
   "execution_count": 7,
   "metadata": {},
   "outputs": [
    {
     "data": {
      "text/plain": [
       "[{'type': 'pdb',\n",
       "  'id': '121P',\n",
       "  'properties': {'method': 'X-ray',\n",
       "   'resolution': '1.54 A',\n",
       "   'chains': 'A=1-166'}},\n",
       " {'type': 'pdb',\n",
       "  'id': '1AA9',\n",
       "  'properties': {'method': 'NMR', 'chains': 'A=1-171'}},\n",
       " {'type': 'pdb',\n",
       "  'id': '1AGP',\n",
       "  'properties': {'method': 'X-ray',\n",
       "   'resolution': '2.30 A',\n",
       "   'chains': 'A=1-166'}},\n",
       " {'type': 'pdb',\n",
       "  'id': '1BKD',\n",
       "  'properties': {'method': 'X-ray',\n",
       "   'resolution': '2.80 A',\n",
       "   'chains': 'R=1-166'}},\n",
       " {'type': 'pdb',\n",
       "  'id': '1CLU',\n",
       "  'properties': {'method': 'X-ray',\n",
       "   'resolution': '1.70 A',\n",
       "   'chains': 'A=1-166'}}]"
      ]
     },
     "execution_count": 7,
     "metadata": {},
     "output_type": "execute_result"
    }
   ],
   "source": [
    "protein.structure_terms()[0:5]"
   ]
  },
  {
   "cell_type": "markdown",
   "metadata": {},
   "source": [
    "## Accessing GO parent and children terms of protein assigned terms\n",
    "\n",
    "Given an obo file ─for this example we are using the GO full graph given by the CAFA5 competition organizators─ we can construct a graph (using `obonet` and `networkx` libraries) to ask for parent and childen terms of the terms assigned to the protein of interest:"
   ]
  },
  {
   "cell_type": "code",
   "execution_count": 8,
   "metadata": {},
   "outputs": [],
   "source": [
    "g = Protein.build_graph('../cafa-5-protein-function-prediction/Train/go-basic.obo')"
   ]
  },
  {
   "cell_type": "code",
   "execution_count": 9,
   "metadata": {},
   "outputs": [
    {
     "data": {
      "text/plain": [
       "['GO:2000348',\n",
       " 'GO:0010990',\n",
       " 'GO:0003202',\n",
       " 'GO:0048340',\n",
       " 'GO:1990574',\n",
       " 'GO:0110032',\n",
       " 'GO:2000342',\n",
       " 'GO:0061742',\n",
       " 'GO:0003412',\n",
       " 'GO:0035766']"
      ]
     },
     "execution_count": 9,
     "metadata": {},
     "output_type": "execute_result"
    }
   ],
   "source": [
    "protein.go_terms_parents(graph=g, max_distance=1)[0:10]"
   ]
  },
  {
   "cell_type": "code",
   "execution_count": 10,
   "metadata": {},
   "outputs": [
    {
     "data": {
      "text/plain": [
       "['GO:1900274',\n",
       " 'GO:0042325',\n",
       " 'GO:0009892',\n",
       " 'GO:0043170',\n",
       " 'GO:0072657',\n",
       " 'GO:0045859',\n",
       " 'GO:0032502',\n",
       " 'GO:0120032',\n",
       " 'GO:0048856',\n",
       " 'GO:0031529']"
      ]
     },
     "execution_count": 10,
     "metadata": {},
     "output_type": "execute_result"
    }
   ],
   "source": [
    "protein.go_terms_children(graph=g, max_distance=2)[0:10]"
   ]
  },
  {
   "cell_type": "markdown",
   "metadata": {},
   "source": [
    "## Working with protein structures"
   ]
  },
  {
   "cell_type": "code",
   "execution_count": 11,
   "metadata": {},
   "outputs": [],
   "source": [
    "# Let's import the correspondent module\n",
    "from manas_cafa.bio.structure import Structure"
   ]
  },
  {
   "cell_type": "markdown",
   "metadata": {},
   "source": [
    "We just have to do as we did for `Protein` objects, in this case loading the PDB, the reference database for protein structures. "
   ]
  },
  {
   "cell_type": "code",
   "execution_count": 12,
   "metadata": {},
   "outputs": [],
   "source": [
    "structure = Structure(protein.structure_terms()[1]['id'])\n",
    "structure.load_pdb()"
   ]
  },
  {
   "cell_type": "markdown",
   "metadata": {},
   "source": [
    "We can ask, for example, about the structure chains. The structure attribute is just as a biopython structure object."
   ]
  },
  {
   "cell_type": "code",
   "execution_count": 13,
   "metadata": {},
   "outputs": [
    {
     "data": {
      "text/plain": [
       "['A']"
      ]
     },
     "execution_count": 13,
     "metadata": {},
     "output_type": "execute_result"
    }
   ],
   "source": [
    "structure.get_chain_ids()"
   ]
  },
  {
   "cell_type": "markdown",
   "metadata": {},
   "source": [
    "We can ask for the protein contact map, in this case the inner contacts for the chain A with 12 armstrong as a distance threshold:"
   ]
  },
  {
   "cell_type": "code",
   "execution_count": 14,
   "metadata": {},
   "outputs": [
    {
     "data": {
      "text/plain": [
       "array([[1., 1., 1., ..., 0., 1., 1.],\n",
       "       [1., 1., 1., ..., 0., 1., 1.],\n",
       "       [1., 1., 1., ..., 0., 1., 1.],\n",
       "       ...,\n",
       "       [0., 0., 0., ..., 1., 1., 1.],\n",
       "       [1., 1., 1., ..., 1., 1., 1.],\n",
       "       [1., 1., 1., ..., 1., 1., 1.]])"
      ]
     },
     "execution_count": 14,
     "metadata": {},
     "output_type": "execute_result"
    }
   ],
   "source": [
    "structure.contact_map('A', 'A', 12)"
   ]
  },
  {
   "cell_type": "markdown",
   "metadata": {},
   "source": [
    "Let's plot the contact map in a more comprehensive way to see which residues are in contact amongst them:"
   ]
  },
  {
   "cell_type": "code",
   "execution_count": 17,
   "metadata": {},
   "outputs": [
    {
     "data": {
      "text/plain": [
       "<matplotlib.axes._subplots.AxesSubplot at 0x7feb62484e50>"
      ]
     },
     "execution_count": 17,
     "metadata": {},
     "output_type": "execute_result"
    },
    {
     "data": {
      "image/png": "[encoded data removed]",
      "text/plain": [
       "<Figure size 432x288 with 2 Axes>"
      ]
     },
     "metadata": {
      "needs_background": "light"
     },
     "output_type": "display_data"
    }
   ],
   "source": [
    "import seaborn as sns\n",
    "\n",
    "sns.heatmap(structure.contact_map('A', 'A', 12))"
   ]
  },
  {
   "cell_type": "markdown",
   "metadata": {},
   "source": [
    "Let's change the threshold to a more restrictive one:"
   ]
  },
  {
   "cell_type": "code",
   "execution_count": 18,
   "metadata": {},
   "outputs": [
    {
     "data": {
      "text/plain": [
       "<matplotlib.axes._subplots.AxesSubplot at 0x7feba016e970>"
      ]
     },
     "execution_count": 18,
     "metadata": {},
     "output_type": "execute_result"
    },
    {
     "data": {
      "image/png": "[encoded data removed]",
      "text/plain": [
       "<Figure size 432x288 with 2 Axes>"
      ]
     },
     "metadata": {
      "needs_background": "light"
     },
     "output_type": "display_data"
    }
   ],
   "source": [
    "sns.heatmap(structure.contact_map('A', 'A', 6))"
   ]
  },
  {
   "cell_type": "code",
   "execution_count": null,
   "metadata": {},
   "outputs": [],
   "source": []
  }
 ],
 "metadata": {
  "kernelspec": {
   "display_name": "Python 3",
   "language": "python",
   "name": "python3"
  },
  "language_info": {
   "codemirror_mode": {
    "name": "ipython",
    "version": 3
   },
   "file_extension": ".py",
   "mimetype": "text/x-python",
   "name": "python",
   "nbconvert_exporter": "python",
   "pygments_lexer": "ipython3",
   "version": "3.8.10"
  },
  "orig_nbformat": 4
 },
 "nbformat": 4,
 "nbformat_minor": 2
}
