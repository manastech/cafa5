{
 "cells": [
  {
   "cell_type": "markdown",
   "metadata": {},
   "source": [
    "# Tutorial 5\n",
    "\n",
    "## Training a model for a single GO term and checking its accuracy\n",
    "\n",
    "In this tutorial, we are going to generate a simple model for a candidate GO term and check its accuracy as a classificator over the CAFA5 train set."
   ]
  },
  {
   "cell_type": "code",
   "execution_count": 1,
   "metadata": {},
   "outputs": [],
   "source": [
    "# Ignore warnings \n",
    "import warnings\n",
    "warnings.filterwarnings('ignore')"
   ]
  },
  {
   "cell_type": "markdown",
   "metadata": {},
   "source": [
    "We're going to create a one-dimensional convolutional model taking as input the one-hot-encoded protein sequences from the training set "
   ]
  },
  {
   "cell_type": "code",
   "execution_count": 2,
   "metadata": {},
   "outputs": [],
   "source": [
    "# Some imports\n",
    "from manas_cafa.models.singleTermConv1DModel import singleTermConv1DModel\n",
    "from manas_cafa.bio.protein import Protein\n",
    "import pandas as pd\n",
    "from Bio import SeqIO\n",
    "import random\n",
    "import numpy as np"
   ]
  },
  {
   "cell_type": "markdown",
   "metadata": {},
   "source": [
    "Let's choose top scored GO term to create a model for:"
   ]
  },
  {
   "cell_type": "code",
   "execution_count": 3,
   "metadata": {},
   "outputs": [
    {
     "data": {
      "text/html": [
       "<div>\n",
       "<style scoped>\n",
       "    .dataframe tbody tr th:only-of-type {\n",
       "        vertical-align: middle;\n",
       "    }\n",
       "\n",
       "    .dataframe tbody tr th {\n",
       "        vertical-align: top;\n",
       "    }\n",
       "\n",
       "    .dataframe thead th {\n",
       "        text-align: right;\n",
       "    }\n",
       "</style>\n",
       "<table border=\"1\" class=\"dataframe\">\n",
       "  <thead>\n",
       "    <tr style=\"text-align: right;\">\n",
       "      <th></th>\n",
       "      <th>1</th>\n",
       "      <th>2</th>\n",
       "      <th>3</th>\n",
       "    </tr>\n",
       "    <tr>\n",
       "      <th>0</th>\n",
       "      <th></th>\n",
       "      <th></th>\n",
       "      <th></th>\n",
       "    </tr>\n",
       "  </thead>\n",
       "  <tbody>\n",
       "    <tr>\n",
       "      <th>GO:0005793</th>\n",
       "      <td>8.166037</td>\n",
       "      <td>12661</td>\n",
       "      <td>103390.188669</td>\n",
       "    </tr>\n",
       "    <tr>\n",
       "      <th>GO:0008180</th>\n",
       "      <td>5.615446</td>\n",
       "      <td>14805</td>\n",
       "      <td>83136.673963</td>\n",
       "    </tr>\n",
       "    <tr>\n",
       "      <th>GO:0005791</th>\n",
       "      <td>5.236855</td>\n",
       "      <td>14792</td>\n",
       "      <td>77463.552732</td>\n",
       "    </tr>\n",
       "    <tr>\n",
       "      <th>GO:0016328</th>\n",
       "      <td>6.621535</td>\n",
       "      <td>11192</td>\n",
       "      <td>74108.217327</td>\n",
       "    </tr>\n",
       "    <tr>\n",
       "      <th>GO:0005801</th>\n",
       "      <td>5.131726</td>\n",
       "      <td>14266</td>\n",
       "      <td>73209.205868</td>\n",
       "    </tr>\n",
       "    <tr>\n",
       "      <th>...</th>\n",
       "      <td>...</td>\n",
       "      <td>...</td>\n",
       "      <td>...</td>\n",
       "    </tr>\n",
       "    <tr>\n",
       "      <th>GO:0006906</th>\n",
       "      <td>0.000000</td>\n",
       "      <td>624</td>\n",
       "      <td>0.000000</td>\n",
       "    </tr>\n",
       "    <tr>\n",
       "      <th>GO:0032024</th>\n",
       "      <td>0.000000</td>\n",
       "      <td>2077</td>\n",
       "      <td>0.000000</td>\n",
       "    </tr>\n",
       "    <tr>\n",
       "      <th>GO:0000166</th>\n",
       "      <td>0.000000</td>\n",
       "      <td>364</td>\n",
       "      <td>0.000000</td>\n",
       "    </tr>\n",
       "    <tr>\n",
       "      <th>GO:0000976</th>\n",
       "      <td>0.000000</td>\n",
       "      <td>3859</td>\n",
       "      <td>0.000000</td>\n",
       "    </tr>\n",
       "    <tr>\n",
       "      <th>GO:0000027</th>\n",
       "      <td>0.000000</td>\n",
       "      <td>516</td>\n",
       "      <td>0.000000</td>\n",
       "    </tr>\n",
       "  </tbody>\n",
       "</table>\n",
       "<p>900 rows × 3 columns</p>\n",
       "</div>"
      ],
      "text/plain": [
       "                   1      2              3\n",
       "0                                         \n",
       "GO:0005793  8.166037  12661  103390.188669\n",
       "GO:0008180  5.615446  14805   83136.673963\n",
       "GO:0005791  5.236855  14792   77463.552732\n",
       "GO:0016328  6.621535  11192   74108.217327\n",
       "GO:0005801  5.131726  14266   73209.205868\n",
       "...              ...    ...            ...\n",
       "GO:0006906  0.000000    624       0.000000\n",
       "GO:0032024  0.000000   2077       0.000000\n",
       "GO:0000166  0.000000    364       0.000000\n",
       "GO:0000976  0.000000   3859       0.000000\n",
       "GO:0000027  0.000000    516       0.000000\n",
       "\n",
       "[900 rows x 3 columns]"
      ]
     },
     "execution_count": 3,
     "metadata": {},
     "output_type": "execute_result"
    }
   ],
   "source": [
    "ordered_candidates_df = pd.read_csv( '../data/go_terms_test_candidates_maxlen500_minmembers100_ordered.tsv', \n",
    "                                    index_col=0, sep='\\t', header=None)\n",
    "ordered_candidates_df"
   ]
  },
  {
   "cell_type": "code",
   "execution_count": 4,
   "metadata": {},
   "outputs": [
    {
     "data": {
      "text/plain": [
       "'GO:0005793'"
      ]
     },
     "execution_count": 4,
     "metadata": {},
     "output_type": "execute_result"
    }
   ],
   "source": [
    "ordered_candidates_df.index[0]"
   ]
  },
  {
   "cell_type": "markdown",
   "metadata": {},
   "source": [
    "### Getting the training set proteins to feed our model\n",
    "\n",
    "We're going to read which proteins from the train set have the chosen GO term assigned:"
   ]
  },
  {
   "cell_type": "code",
   "execution_count": 5,
   "metadata": {},
   "outputs": [],
   "source": [
    "GO_TERMS_TRAIN_SET = '../data/go_terms_train_set_maxlen500_minmembers100.tsv'\n",
    "\n",
    "# Read the train set\n",
    "train_set_df = pd.read_csv(GO_TERMS_TRAIN_SET, index_col=0, sep='\\t', header=None, names=['go_term', 'proteins'] )\n",
    "candidate_row = train_set_df.loc[ordered_candidates_df.index[0]]"
   ]
  },
  {
   "cell_type": "code",
   "execution_count": 6,
   "metadata": {},
   "outputs": [],
   "source": [
    "candidate_row_proteins = candidate_row.proteins.split(',')"
   ]
  },
  {
   "cell_type": "markdown",
   "metadata": {},
   "source": [
    "As negative examples, since is difficult to assert that a protein does not have an especific protein function (it could be that is only not assigned yet to it) we are going to get random proteins from the set of proteins that doesn't have it assigned. Since there are thousands of proteins there, we can trust that the big majority are going to be real negative examples:"
   ]
  },
  {
   "cell_type": "code",
   "execution_count": 7,
   "metadata": {},
   "outputs": [],
   "source": [
    "# Load the proteins (max length 500)\n",
    "other_proteins = []\n",
    "for record in SeqIO.parse('../cafa-5-protein-function-prediction/Train/train_sequences.fasta', 'fasta'):\n",
    "    if len(record.seq) <= 500:\n",
    "        other_proteins.append(record.id)\n",
    "\n",
    "other_proteins = list(set(other_proteins) - set(candidate_row_proteins))"
   ]
  },
  {
   "cell_type": "code",
   "execution_count": 8,
   "metadata": {},
   "outputs": [],
   "source": [
    "# select random proteins from the other proteins\n",
    "random.shuffle(other_proteins)\n",
    "other_proteins = other_proteins[:len(candidate_row_proteins)*10]\n"
   ]
  },
  {
   "cell_type": "markdown",
   "metadata": {},
   "source": [
    "Now we will compute all the one-hot encoded sequences for the candidate proteins and for the negative dataset. We are going to fix the lenght of the input to 500 aminoacides, completing with empty vectors for shorter proteins in order to feed the model with data properly shaped. "
   ]
  },
  {
   "cell_type": "code",
   "execution_count": 9,
   "metadata": {},
   "outputs": [],
   "source": [
    "# get the one-hot encoded sequence of the proteins in the candidate row\n",
    "candidate_row_proteins_one_hot = []\n",
    "for protein_id in candidate_row_proteins:\n",
    "    protein = Protein(protein_id)\n",
    "    protein.load_file('/data/uniprot/entries/'+protein_id[-2:]+\"/\"+protein_id+\".xml\")\n",
    "    if len(protein.sequence) <= 500:\n",
    "        candidate_row_proteins_one_hot.append(protein.one_hot_sequence())"
   ]
  },
  {
   "cell_type": "code",
   "execution_count": 10,
   "metadata": {},
   "outputs": [],
   "source": [
    "# fix the length of the one-hot encoded sequences to 500\n",
    "candidate_row_proteins_one_hot = [np.pad(seq, ((0, 500-len(seq)), (0,0)), 'constant') for seq in candidate_row_proteins_one_hot]"
   ]
  },
  {
   "cell_type": "code",
   "execution_count": 11,
   "metadata": {},
   "outputs": [],
   "source": [
    "# get the one-hot encoded sequence of the other proteins\n",
    "other_proteins_one_hot = []\n",
    "for protein_id in other_proteins:\n",
    "    protein = Protein(protein_id)\n",
    "    try:\n",
    "        protein.load_file('/data/uniprot/entries/'+protein_id[-2:]+\"/\"+protein_id+\".xml\")\n",
    "        if len(protein.sequence) <= 500:\n",
    "            other_proteins_one_hot.append(protein.one_hot_sequence())\n",
    "    except:\n",
    "        continue\n"
   ]
  },
  {
   "cell_type": "code",
   "execution_count": 12,
   "metadata": {},
   "outputs": [],
   "source": [
    "# fix the length of the one-hot encoded sequences to 500\n",
    "other_proteins_one_hot = [np.pad(seq, ((0, 500-len(seq)), (0,0)), 'constant') for seq in other_proteins_one_hot]"
   ]
  },
  {
   "cell_type": "code",
   "execution_count": 13,
   "metadata": {},
   "outputs": [
    {
     "name": "stdout",
     "output_type": "stream",
     "text": [
      "There are 213 positive examples\n",
      "And 2033 negative examples\n"
     ]
    }
   ],
   "source": [
    "print(f'There are {len(candidate_row_proteins_one_hot)} positive examples')\n",
    "print(f'And {len(other_proteins_one_hot)} negative examples')"
   ]
  },
  {
   "cell_type": "markdown",
   "metadata": {},
   "source": [
    "### Creating the model\n",
    "\n",
    "In this section we are going to create the simple model to be trained and validated. The input shape are vectors of 20 possible aminoacides with a fixed length of 500 aminoacides:"
   ]
  },
  {
   "cell_type": "code",
   "execution_count": 14,
   "metadata": {},
   "outputs": [],
   "source": [
    "# create singleTermConv1DModel object\n",
    "model = singleTermConv1DModel(input_shape=(500, 20), num_classes=2)"
   ]
  },
  {
   "cell_type": "code",
   "execution_count": 15,
   "metadata": {},
   "outputs": [],
   "source": [
    "# compile the model\n",
    "model.compile_model()"
   ]
  },
  {
   "cell_type": "code",
   "execution_count": 16,
   "metadata": {},
   "outputs": [
    {
     "name": "stdout",
     "output_type": "stream",
     "text": [
      "Model: \"sequential\"\n",
      "_________________________________________________________________\n",
      " Layer (type)                Output Shape              Param #   \n",
      "=================================================================\n",
      " conv1d (Conv1D)             (None, 498, 32)           1952      \n",
      "                                                                 \n",
      " conv1d_1 (Conv1D)           (None, 496, 64)           6208      \n",
      "                                                                 \n",
      " dropout (Dropout)           (None, 496, 64)           0         \n",
      "                                                                 \n",
      " max_pooling1d (MaxPooling1D  (None, 248, 64)          0         \n",
      " )                                                               \n",
      "                                                                 \n",
      " flatten (Flatten)           (None, 15872)             0         \n",
      "                                                                 \n",
      " dense (Dense)               (None, 128)               2031744   \n",
      "                                                                 \n",
      " dense_1 (Dense)             (None, 2)                 258       \n",
      "                                                                 \n",
      "=================================================================\n",
      "Total params: 2,040,162\n",
      "Trainable params: 2,040,162\n",
      "Non-trainable params: 0\n",
      "_________________________________________________________________\n"
     ]
    }
   ],
   "source": [
    "model.model.summary()"
   ]
  },
  {
   "cell_type": "markdown",
   "metadata": {},
   "source": [
    "We have created a model with ~2M parameters. The output is the probability of the protein (the one-hot encoded sequence of the protein used as input) to have assigned the GO term that we're training the model for."
   ]
  },
  {
   "cell_type": "markdown",
   "metadata": {},
   "source": [
    "As an usual practice, we train the model with 80% of the data and we reserve the remaning 20% for testing:"
   ]
  },
  {
   "cell_type": "code",
   "execution_count": 17,
   "metadata": {},
   "outputs": [],
   "source": [
    "# create the train and test sets\n",
    "eighty_percent_candidate = int(len(candidate_row_proteins_one_hot)*0.8)\n",
    "eighty_percent_other = int(len(other_proteins_one_hot)*0.8)\n",
    "\n",
    "x_train = np.array(candidate_row_proteins_one_hot[:eighty_percent_candidate] + other_proteins_one_hot[:eighty_percent_other])\n",
    "y_train = np.array([[1,0]]*eighty_percent_candidate + [[0,1]]*eighty_percent_other)\n",
    "x_test = np.array(candidate_row_proteins_one_hot[eighty_percent_candidate:] + other_proteins_one_hot[eighty_percent_other:])\n",
    "y_test = np.array([[1,0]]*(len(candidate_row_proteins_one_hot)-eighty_percent_candidate) + [[0,1]]*(len(other_proteins_one_hot)-eighty_percent_other))\n"
   ]
  },
  {
   "cell_type": "markdown",
   "metadata": {},
   "source": [
    "It's time to fit the model!"
   ]
  },
  {
   "cell_type": "code",
   "execution_count": 18,
   "metadata": {},
   "outputs": [
    {
     "name": "stdout",
     "output_type": "stream",
     "text": [
      "Epoch 1/10\n"
     ]
    },
    {
     "name": "stderr",
     "output_type": "stream",
     "text": [
      "2023-08-18 10:54:19.979986: W tensorflow/stream_executor/gpu/asm_compiler.cc:111] *** WARNING *** You are using ptxas 10.1.243, which is older than 11.1. ptxas before 11.1 is known to miscompile XLA code, leading to incorrect results or invalid-address errors.\n",
      "\n",
      "You may not need to update to CUDA 11.1; cherry-picking the ptxas binary is often sufficient.\n"
     ]
    },
    {
     "name": "stdout",
     "output_type": "stream",
     "text": [
      "57/57 [==============================] - 2s 10ms/step - loss: 0.3385 - accuracy: 0.9026 - val_loss: 0.2913 - val_accuracy: 0.9044\n",
      "Epoch 2/10\n",
      "57/57 [==============================] - 0s 5ms/step - loss: 0.2066 - accuracy: 0.9053 - val_loss: 0.3286 - val_accuracy: 0.9044\n",
      "Epoch 3/10\n",
      "57/57 [==============================] - 0s 6ms/step - loss: 0.1459 - accuracy: 0.9204 - val_loss: 0.2772 - val_accuracy: 0.9111\n",
      "Epoch 4/10\n",
      "57/57 [==============================] - 0s 6ms/step - loss: 0.1011 - accuracy: 0.9504 - val_loss: 0.2619 - val_accuracy: 0.9178\n",
      "Epoch 5/10\n",
      "57/57 [==============================] - 0s 5ms/step - loss: 0.0442 - accuracy: 0.9905 - val_loss: 0.4001 - val_accuracy: 0.9178\n",
      "Epoch 6/10\n",
      "57/57 [==============================] - 0s 5ms/step - loss: 0.0178 - accuracy: 0.9961 - val_loss: 0.4203 - val_accuracy: 0.9200\n",
      "Epoch 7/10\n",
      "57/57 [==============================] - 0s 5ms/step - loss: 0.0113 - accuracy: 0.9972 - val_loss: 0.4115 - val_accuracy: 0.9222\n",
      "Epoch 8/10\n",
      "57/57 [==============================] - 0s 5ms/step - loss: 0.0045 - accuracy: 0.9994 - val_loss: 0.4154 - val_accuracy: 0.9267\n",
      "Epoch 9/10\n",
      "57/57 [==============================] - 0s 5ms/step - loss: 0.0031 - accuracy: 1.0000 - val_loss: 0.5357 - val_accuracy: 0.9244\n",
      "Epoch 10/10\n",
      "57/57 [==============================] - 0s 5ms/step - loss: 0.0018 - accuracy: 1.0000 - val_loss: 0.4768 - val_accuracy: 0.9267\n"
     ]
    }
   ],
   "source": [
    "# fit the model\n",
    "model.fit_model(x_train, y_train, x_test, y_test,\n",
    "                epochs=10, batch_size=32)"
   ]
  },
  {
   "cell_type": "markdown",
   "metadata": {},
   "source": [
    "### Benchmarking our model on the test set\n",
    "\n",
    "We have reserved 20% of our data for testing. Let's use our model to predict over those proteins the probability of the target term to be assigned and test that against the \"truth\" (if this proteins have the term assigned or not):"
   ]
  },
  {
   "cell_type": "code",
   "execution_count": 19,
   "metadata": {},
   "outputs": [
    {
     "name": "stdout",
     "output_type": "stream",
     "text": [
      "15/15 [==============================] - 0s 2ms/step\n"
     ]
    },
    {
     "data": {
      "image/png": "[encoded data removed]",
      "text/plain": [
       "<Figure size 432x288 with 1 Axes>"
      ]
     },
     "metadata": {
      "needs_background": "light"
     },
     "output_type": "display_data"
    }
   ],
   "source": [
    "# make the imports for the plot\n",
    "from sklearn.metrics import roc_curve, auc\n",
    "import matplotlib.pyplot as plt\n",
    "\n",
    "# plot a roc curve for the test set\n",
    "y_pred_keras = model.predict(x_test).ravel()\n",
    "fpr_keras, tpr_keras, thresholds_keras = roc_curve(y_test.ravel(), y_pred_keras)\n",
    "auc_keras = auc(fpr_keras, tpr_keras)\n",
    "\n",
    "# plot the roc curve\n",
    "plt.figure(1)\n",
    "plt.plot([0, 1], [0, 1], 'k--')\n",
    "plt.plot(fpr_keras, tpr_keras, label='(area = {:.3f})'.format(auc_keras))\n",
    "plt.xlabel('False positive rate')\n",
    "plt.ylabel('True positive rate')\n",
    "plt.title('ROC curve')\n",
    "plt.legend(loc='best')\n",
    "\n",
    "# show the plot\n",
    "plt.show()\n"
   ]
  },
  {
   "cell_type": "markdown",
   "metadata": {},
   "source": [
    "Our appears to be a good classifier! Before use it to predict the target GO term over the test set of the competition, let's save it to a file so we don't have to train it again:\n"
   ]
  },
  {
   "cell_type": "code",
   "execution_count": 20,
   "metadata": {},
   "outputs": [],
   "source": [
    "# save the model to a file in /data/models/<go_term[-2:]>/<go_term>, create the directory if it doesn't exist\n",
    "model.model.save('/data/models/'+ordered_candidates_df.index[0][-2:]+'/'+ordered_candidates_df.index[0].replace(\"GO:\",\"\")+'.h5')"
   ]
  },
  {
   "cell_type": "markdown",
   "metadata": {},
   "source": [
    "### Using our model on the test set of the competition\n",
    "\n",
    "Now that we have constructed a model and assesed its classifying accuracy, let's load the test protein of the CAFA competition:"
   ]
  },
  {
   "cell_type": "code",
   "execution_count": 21,
   "metadata": {},
   "outputs": [],
   "source": [
    "CANDIDATE_TERMS_TEST_SET = '../data/go_terms_test_candidates_maxlen500_minmembers100.tsv'\n",
    "\n",
    "# Read the test set\n",
    "test_set_df = pd.read_csv(CANDIDATE_TERMS_TEST_SET, index_col=0, sep='\\t', header=None, names=['go_term', 'proteins'] )\n",
    "candidate_row = test_set_df.loc[ordered_candidates_df.index[0]]\n"
   ]
  },
  {
   "cell_type": "markdown",
   "metadata": {},
   "source": [
    "Get the one-hot encoded sequence of the proteins in the candidate row\n"
   ]
  },
  {
   "cell_type": "code",
   "execution_count": 22,
   "metadata": {},
   "outputs": [],
   "source": [
    "candidate_row_proteins_one_hot = []\n",
    "for protein_id in candidate_row.proteins.split(','):\n",
    "    protein = Protein(protein_id)\n",
    "    protein.load_file('/data/uniprot/entries/'+protein_id[-2:]+\"/\"+protein_id+\".xml\")\n",
    "    # filter proteins with length > 500\n",
    "    if len(protein.sequence) <= 500:\n",
    "        candidate_row_proteins_one_hot.append(protein.one_hot_sequence())\n",
    "\n",
    "# fix the length of the one-hot encoded sequences to 500\n",
    "candidate_row_proteins_one_hot = [np.pad(seq, ((0, 500-len(seq)), (0,0)), 'constant') for seq in candidate_row_proteins_one_hot]"
   ]
  },
  {
   "cell_type": "markdown",
   "metadata": {},
   "source": [
    "Let's use the constructed model to predict over all the candidates:  "
   ]
  },
  {
   "cell_type": "code",
   "execution_count": 23,
   "metadata": {},
   "outputs": [
    {
     "name": "stdout",
     "output_type": "stream",
     "text": [
      "128/396 [========>.....................] - ETA: 0s"
     ]
    },
    {
     "name": "stdout",
     "output_type": "stream",
     "text": [
      "396/396 [==============================] - 1s 2ms/step\n"
     ]
    }
   ],
   "source": [
    "# predict the probability of the proteins in the candidate row\n",
    "predictions = model.predict(np.array(candidate_row_proteins_one_hot))"
   ]
  },
  {
   "cell_type": "markdown",
   "metadata": {},
   "source": [
    "How many predictions we made?"
   ]
  },
  {
   "cell_type": "code",
   "execution_count": 24,
   "metadata": {},
   "outputs": [
    {
     "name": "stdout",
     "output_type": "stream",
     "text": [
      "We have predicted the target GO term over 12660 proteins\n"
     ]
    }
   ],
   "source": [
    "print(f'We have predicted the target GO term over {predictions.shape[0]} proteins')"
   ]
  },
  {
   "cell_type": "markdown",
   "metadata": {},
   "source": [
    "Filter out only the possitive probabilities:"
   ]
  },
  {
   "cell_type": "code",
   "execution_count": 25,
   "metadata": {},
   "outputs": [],
   "source": [
    "candidate_row_proteins_prob = [p[0] for p in predictions]\n"
   ]
  },
  {
   "cell_type": "markdown",
   "metadata": {},
   "source": [
    "Let's order the results by probability and see the top-10 scored protein uniprot code:"
   ]
  },
  {
   "cell_type": "code",
   "execution_count": 26,
   "metadata": {},
   "outputs": [
    {
     "data": {
      "text/plain": [
       "[('P59190', 0.9978745),\n",
       " ('P56520', 0.9948442),\n",
       " ('Q6NT76', 0.9768891),\n",
       " ('Q3HNG7', 0.9768891),\n",
       " ('Q9YH06', 0.9734062),\n",
       " ('P30681', 0.9683884),\n",
       " ('P10247', 0.96442777),\n",
       " ('P0C5I2', 0.95771515),\n",
       " ('Q00977', 0.946732),\n",
       " ('P08033', 0.9420413)]"
      ]
     },
     "execution_count": 26,
     "metadata": {},
     "output_type": "execute_result"
    }
   ],
   "source": [
    "candidate_row_proteins_prob_ordered = list(zip(candidate_row.proteins.split(','), candidate_row_proteins_prob))\n",
    "candidate_row_proteins_prob_ordered.sort(key=lambda x: x[1], reverse=True)\n",
    "candidate_row_proteins_prob_ordered[0:10]"
   ]
  },
  {
   "cell_type": "markdown",
   "metadata": {},
   "source": [
    "Since for the competition we're interested in positive predictions, let's keep only those with p>0.4 for submission:"
   ]
  },
  {
   "cell_type": "code",
   "execution_count": 27,
   "metadata": {},
   "outputs": [],
   "source": [
    "# candidate_row_proteins_prob_ordered to file\n",
    "with open('../data/candidate_row_proteins_prob_ordered.tsv', 'w') as f:\n",
    "    f.write('protein_id\\tprobability\\n')\n",
    "    for protein_id, prob in candidate_row_proteins_prob_ordered:\n",
    "        if prob>0.4:\n",
    "            f.write(protein_id+'\\t'+ordered_candidates_df.index[0]+'\\t'+str(prob.round(3))+'\\n')\n",
    "        "
   ]
  }
 ],
 "metadata": {
  "kernelspec": {
   "display_name": "Python 3",
   "language": "python",
   "name": "python3"
  },
  "language_info": {
   "codemirror_mode": {
    "name": "ipython",
    "version": 3
   },
   "file_extension": ".py",
   "mimetype": "text/x-python",
   "name": "python",
   "nbconvert_exporter": "python",
   "pygments_lexer": "ipython3",
   "version": "3.8.10"
  },
  "orig_nbformat": 4
 },
 "nbformat": 4,
 "nbformat_minor": 2
}
